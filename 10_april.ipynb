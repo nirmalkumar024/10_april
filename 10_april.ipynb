{
 "cells": [
  {
   "cell_type": "markdown",
   "id": "66dfd731-c537-47b8-98ef-3c53b20ed977",
   "metadata": {},
   "source": [
    "Q1. A company conducted a survey of its employees and found that 70% of the employees use the\n",
    "company's health insurance plan, while 40% of the employees who use the plan are smokers. What is the\n",
    "probability that an employee is a smoker given that he/she uses the health insurance plan?"
   ]
  },
  {
   "cell_type": "markdown",
   "id": "623f1ebb-43f1-4e48-a3cf-6d40c788336e",
   "metadata": {},
   "source": [
    "total company member=x\n",
    "smoker=x/40%\n",
    "non_smoker=x-(x/40%)\n",
    "in question 70% employees use company's health insurance\n",
    "lets assume x=100\n",
    "so,\n",
    "non_smoker="
   ]
  },
  {
   "cell_type": "code",
   "execution_count": null,
   "id": "a961a956-0b05-47ef-8f04-18ee3f380c6d",
   "metadata": {},
   "outputs": [],
   "source": []
  },
  {
   "cell_type": "markdown",
   "id": "49d447ac-0e20-4d1a-a3d5-fb74261fe8db",
   "metadata": {},
   "source": [
    "Q2. What is the difference between Bernoulli Naive Bayes and Multinomial Naive Bayes?"
   ]
  },
  {
   "cell_type": "markdown",
   "id": "b63fe9bd-5b06-469f-a5b3-d8bc36715834",
   "metadata": {},
   "source": [
    "the Bernoulli model uses binary occurrence information, ignoring the number of occurrences,whereas the multinomial model keeps track of multiple occurrences. As a result, the Bernoulli model typically makes many mistakes when classifying long documents."
   ]
  },
  {
   "cell_type": "code",
   "execution_count": null,
   "id": "b6628159-e4fd-478b-b56b-cd98beb5e973",
   "metadata": {},
   "outputs": [],
   "source": [
    "Q3. How does Bernoulli Naive Bayes handle missing values?"
   ]
  },
  {
   "cell_type": "markdown",
   "id": "bb944bde-464f-4eb4-bec7-4b19b9988906",
   "metadata": {},
   "source": [
    "Naive Bayes can handle missing data. Attributes are handled separately by the algorithm at both model construction time and prediction time. As such, if a data instance has a missing value for an attribute, it can be ignored while preparing the model, and ignored when a probability is calculated for a class value."
   ]
  },
  {
   "cell_type": "markdown",
   "id": "98daa77c-604d-42be-97d4-a800005ab2b8",
   "metadata": {},
   "source": [
    "Q4. Can Gaussian Naive Bayes be used for multi-class classification?"
   ]
  },
  {
   "cell_type": "markdown",
   "id": "12ad56dc-0ed3-4fde-96d2-21783b3eb98f",
   "metadata": {},
   "source": [
    "the Naive Bayes algorithm can be used for multi-class classification problems with more than two classes. There are several types of Naive Bayes classifiers, such as Multinomial Naive Bayes, Bernoulli Naive Bayes, and Gaussian Naive Bayes."
   ]
  },
  {
   "cell_type": "code",
   "execution_count": null,
   "id": "70ae9543-2cc3-4b39-9351-0f7ebab390d3",
   "metadata": {},
   "outputs": [],
   "source": []
  }
 ],
 "metadata": {
  "kernelspec": {
   "display_name": "",
   "name": ""
  },
  "language_info": {
   "name": ""
  }
 },
 "nbformat": 4,
 "nbformat_minor": 5
}
